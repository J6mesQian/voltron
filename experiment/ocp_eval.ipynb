{
 "cells": [
  {
   "cell_type": "code",
   "execution_count": 6,
   "metadata": {},
   "outputs": [
    {
     "name": "stdout",
     "output_type": "stream",
     "text": [
      "The autoreload extension is already loaded. To reload it, use:\n",
      "  %reload_ext autoreload\n"
     ]
    }
   ],
   "source": [
    "%load_ext autoreload\n",
    "%autoreload 2\n",
    "import sys\n",
    "ROOT1 = \"/home/anthony/knowledge_aug_vp/object_centric_pretraining\"\n",
    "ROOT2 = \"/home/anthony/knowledge_aug_vp/object_centric_pretraining/model\"\n",
    "sys.path.append(ROOT1)\n",
    "sys.path.append(ROOT2)\n",
    "import json\n",
    "import os\n",
    "import torch\n",
    "from data_loader.data_loader import (\n",
    "    TextVideoDataLoader,\n",
    "    MultiDistTextVideoDataLoader,\n",
    "    dataset_loader,\n",
    ")\n",
    "from model.model import FrozenInTime\n",
    "import torchshow as ts"
   ]
  },
  {
   "cell_type": "code",
   "execution_count": 7,
   "metadata": {},
   "outputs": [],
   "source": [
    "from model.video_transformer import SpaceTimeTransformer"
   ]
  },
  {
   "cell_type": "code",
   "execution_count": 20,
   "metadata": {},
   "outputs": [
    {
     "name": "stdout",
     "output_type": "stream",
     "text": [
      "{'max_train_samples': 10, 'max_eval_samples': 10, 'image_processor_name': 'test', 'base_learning_rate': 3e-05, 'output_dir': '/home/anthony/knowledge_aug_vp/object_centric_pretraining', 'do_train': True, 'do_eval': False, 'overwrite_output_dir': True, 'load_lang': True, 'lang_augmentations': True, 'dataset_root': '/home/shared/ego4d/', 'per_device_train_batch_size': 32, 'gradient_accumulation_steps': 1, 'logging_steps': 100, 'report_to': [], 'remove_unused_columns': False, 'dataloader_num_workers': 16, 'ddp_find_unused_parameters': False, 'num_train_epochs': 100, 'save_strategy': 'epoch', 'save_total_limit': 2, 'fp16': True, 'run_name': 'object_centric_pretraining', 'dataloader_type': 'data_loader.MultiDistTextVideoDataLoader', 'dataloader_args': {'dataset_name': 'Ego4D_Object', 'data_dir': '/home/shared/ego4d/v1/full_scale_chunked', 'meta_dir': '/home/shared/ego4d/v1/annotations/', 'reader': 'cv2_egoclip', 'split': 'train', 'text_params': {'input': 'text'}, 'video_params': {'input_res': 224, 'num_frames': 4, 'loading': 'lax', 'frame_sample': 'rand'}}, 'model_type': 'FrozenInTime', 'model_args': {'video_params': {'model': 'SpaceTimeObjectTransformer', 'arch_config': 'base_patch16_224', 'num_frames': 16, 'pretrained': True, 'time_init': 'zeros'}, 'text_params': {'model': 'distilbert-base-uncased', 'pretrained': True, 'input': 'text'}, 'projection': 'minimal', 'load_checkpoint': '', 'loss': 'MaxMarginRankingLoss', 'obj_knowledge_loss_weight': 0.1, 'obj_tag_loss_weight': 0.1, 'loss_params': {'margin': 0.2}}}\n"
     ]
    },
    {
     "name": "stderr",
     "output_type": "stream",
     "text": [
      "Some weights of the model checkpoint at distilbert-base-uncased were not used when initializing DistilBertModel: ['vocab_projector.weight', 'vocab_layer_norm.weight', 'vocab_layer_norm.bias', 'vocab_transform.bias', 'vocab_transform.weight', 'vocab_projector.bias']\n",
      "- This IS expected if you are initializing DistilBertModel from the checkpoint of a model trained on another task or with another architecture (e.g. initializing a BertForSequenceClassification model from a BertForPreTraining model).\n",
      "- This IS NOT expected if you are initializing DistilBertModel from the checkpoint of a model that you expect to be exactly identical (initializing a BertForSequenceClassification model from a BertForSequenceClassification model).\n"
     ]
    },
    {
     "ename": "NotImplementedError",
     "evalue": "SpaceTimeObjectTransformer not implemented",
     "output_type": "error",
     "traceback": [
      "\u001b[0;31m---------------------------------------------------------------------------\u001b[0m",
      "\u001b[0;31mNotImplementedError\u001b[0m                       Traceback (most recent call last)",
      "Cell \u001b[0;32mIn[20], line 8\u001b[0m\n\u001b[1;32m      5\u001b[0m model_args[\u001b[39m\"\u001b[39m\u001b[39mmodel_args\u001b[39m\u001b[39m\"\u001b[39m][\u001b[39m\"\u001b[39m\u001b[39mvideo_params\u001b[39m\u001b[39m\"\u001b[39m][\u001b[39m\"\u001b[39m\u001b[39mmodel\u001b[39m\u001b[39m\"\u001b[39m] \u001b[39m=\u001b[39m \u001b[39m\"\u001b[39m\u001b[39mSpaceTimeObjectTransformer\u001b[39m\u001b[39m\"\u001b[39m\n\u001b[1;32m      6\u001b[0m \u001b[39m#print(model_args['model_args']['video_params']['model'])\u001b[39;00m\n\u001b[1;32m      7\u001b[0m \u001b[39m#import ipdb; ipdb.set_trace()\u001b[39;00m\n\u001b[0;32m----> 8\u001b[0m model \u001b[39m=\u001b[39m model_cls(\u001b[39m*\u001b[39;49m\u001b[39m*\u001b[39;49mmodel_args[\u001b[39m\"\u001b[39;49m\u001b[39mmodel_args\u001b[39;49m\u001b[39m\"\u001b[39;49m])\n\u001b[1;32m      9\u001b[0m \u001b[39m#model.eval()\u001b[39;00m\n",
      "File \u001b[0;32m/home/anthony/knowledge_aug_vp/object_centric_pretraining/model/model.py:69\u001b[0m, in \u001b[0;36mFrozenInTime.__init__\u001b[0;34m(self, loss_params, video_params, text_params, projection_dim, load_checkpoint, projection, load_temporal_fix, **kwargs)\u001b[0m\n\u001b[1;32m     67\u001b[0m     \u001b[39mself\u001b[39m\u001b[39m.\u001b[39mvideo_model \u001b[39m=\u001b[39m model\n\u001b[1;32m     68\u001b[0m \u001b[39melse\u001b[39;00m:\n\u001b[0;32m---> 69\u001b[0m     \u001b[39mraise\u001b[39;00m \u001b[39mNotImplementedError\u001b[39;00m(\u001b[39mf\u001b[39m\u001b[39m\"\u001b[39m\u001b[39m{\u001b[39;00mvideo_params[\u001b[39m'\u001b[39m\u001b[39mmodel\u001b[39m\u001b[39m'\u001b[39m]\u001b[39m}\u001b[39;00m\u001b[39m not implemented\u001b[39m\u001b[39m\"\u001b[39m)\n\u001b[1;32m     71\u001b[0m \u001b[39m# for backwards compatibility (old models)\u001b[39;00m\n\u001b[1;32m     72\u001b[0m \u001b[39mself\u001b[39m\u001b[39m.\u001b[39mvideo_model\u001b[39m.\u001b[39mfc \u001b[39m=\u001b[39m nn\u001b[39m.\u001b[39mIdentity()\n",
      "\u001b[0;31mNotImplementedError\u001b[0m: SpaceTimeObjectTransformer not implemented"
     ]
    }
   ],
   "source": [
    "model_cls = FrozenInTime\n",
    "cfg_f = os.path.join(ROOT, \"config.json\")\n",
    "model_args = json.load(open(cfg_f, \"r\"))\n",
    "print(model_args)\n",
    "model_args[\"model_args\"][\"video_params\"][\"model\"] = \"SpaceTimeObjectTransformer\"\n",
    "#print(model_args['model_args']['video_params']['model'])\n",
    "#import ipdb; ipdb.set_trace()\n",
    "print(model_args[\"model_args\"])\n",
    "model = model_cls(**model_args[\"model_args\"])\n",
    "#model.eval()"
   ]
  },
  {
   "cell_type": "code",
   "execution_count": null,
   "metadata": {},
   "outputs": [],
   "source": []
  }
 ],
 "metadata": {
  "kernelspec": {
   "display_name": "knowledge_aug",
   "language": "python",
   "name": "python3"
  },
  "language_info": {
   "codemirror_mode": {
    "name": "ipython",
    "version": 3
   },
   "file_extension": ".py",
   "mimetype": "text/x-python",
   "name": "python",
   "nbconvert_exporter": "python",
   "pygments_lexer": "ipython3",
   "version": "3.9.16"
  },
  "orig_nbformat": 4
 },
 "nbformat": 4,
 "nbformat_minor": 2
}
